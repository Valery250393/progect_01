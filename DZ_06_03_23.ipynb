{
  "cells": [
    {
      "cell_type": "code",
      "execution_count": null,
      "metadata": {
        "colab": {
          "base_uri": "https://localhost:8080/"
        },
        "id": "QDJiZEIE9QVI",
        "outputId": "5e973b9d-f766-4e27-ce1b-3b70f53f584e"
      },
      "outputs": [
        {
          "name": "stdout",
          "output_type": "stream",
          "text": [
            "Waste a Moment\n",
            "New Salvation\n",
            "Staying' Alive\n",
            "Start Me Up\n"
          ]
        }
      ],
      "source": [
        "# Задача 1.1.\n",
        "\n",
        "my_favorite_songs = 'Waste a Moment, Staying\\' Alive, A Sorta Fairytale, Start Me Up, New Salvation'\n",
        "fsong = my_favorite_songs[:14]\n",
        "ssong = my_favorite_songs[16:30]\n",
        "tsong = my_favorite_songs[33:50]\n",
        "foursong = my_favorite_songs[51:62]\n",
        "fivesong = my_favorite_songs[64:]\n",
        "print(fsong)\n",
        "print(fivesong)\n",
        "print(ssong)\n",
        "print(foursong)"
      ]
    },
    {
      "cell_type": "code",
      "execution_count": null,
      "metadata": {
        "colab": {
          "base_uri": "https://localhost:8080/"
        },
        "id": "8rQSmiAMALoo",
        "outputId": "b6a7e010-909c-45c7-b824-012313977cf0"
      },
      "outputs": [
        {
          "name": "stdout",
          "output_type": "stream",
          "text": [
            "[['Waste a Moment', 3.03], ['New Salvation', 4.02], [\"Staying' Alive\", 3.4], ['Out of Touch', 3.03], ['A Sorta Fairytale', 5.28], ['Easy', 4.15], ['Beautiful Day', 4.04], ['Nowhere to Run', 2.58], ['In This World', 4.02]]\n",
            "Выберите три песни из списка от 0 до 8:\n",
            "0\n",
            "0\n",
            "0\n",
            "Три песни звучат  9.09  минут\n"
          ]
        }
      ],
      "source": [
        "# Задача 1.2.\n",
        "# Пункт А.\n",
        "\n",
        "my_favorite_songs = [\n",
        "    ['Waste a Moment', 3.03],\n",
        "    ['New Salvation', 4.02],\n",
        "    ['Staying\\' Alive', 3.40],\n",
        "    ['Out of Touch', 3.03],\n",
        "    ['A Sorta Fairytale', 5.28],\n",
        "    ['Easy', 4.15],\n",
        "    ['Beautiful Day', 4.04],\n",
        "    ['Nowhere to Run', 2.58],\n",
        "    ['In This World', 4.02],\n",
        "]\n",
        "\n",
        "time = 0\n",
        "print(my_favorite_songs)\n",
        "print(\"Выберите три песни из списка от 0 до 8:\")\n",
        "num = int(input())\n",
        "time += my_favorite_songs[num][1]\n",
        "num = int(input())\n",
        "time += my_favorite_songs[num][1]\n",
        "num = int(input())\n",
        "time += my_favorite_songs[num][1]\n",
        "print(\"Три песни звучат \", time, \" минут\")"
      ]
    },
    {
      "cell_type": "code",
      "execution_count": 7,
      "metadata": {
        "colab": {
          "base_uri": "https://localhost:8080/"
        },
        "id": "sJFHXSYp12kC",
        "outputId": "5418b01b-487d-4983-f873-51e315ca4df5"
      },
      "outputs": [
        {
          "name": "stdout",
          "output_type": "stream",
          "text": [
            "{'Waste a Moment': 3.03, 'New Salvation': 4.02, \"Staying' Alive\": 3.4, 'Out of Touch': 3.03, 'A Sorta Fairytale': 5.28, 'Easy': 4.15, 'Beautiful Day': 4.04, 'Nowhere to Run': 2.58, 'In This World': 4.02}\n",
            "Введите название трех песен из списка:\n",
            "Waste a Moment\n",
            "Beautiful Day\n",
            "In This World\n",
            "Три песни звучат  11.09  минут\n"
          ]
        }
      ],
      "source": [
        "# Задача 1.2.\n",
        "# Пункт B.\n",
        "\n",
        "my_favorite_songs_dict = {\n",
        "    'Waste a Moment': 3.03,\n",
        "    'New Salvation': 4.02,\n",
        "    'Staying\\' Alive': 3.40,\n",
        "    'Out of Touch': 3.03,\n",
        "    'A Sorta Fairytale': 5.28,\n",
        "    'Easy': 4.15,\n",
        "    'Beautiful Day': 4.04,\n",
        "    'Nowhere to Run': 2.58,\n",
        "    'In This World': 4.02,\n",
        "}\n",
        "\n",
        "time = 0\n",
        "print(my_favorite_songs_dict)\n",
        "print(\"Введите название трех песен из списка:\")\n",
        "num = str(input())\n",
        "time += my_favorite_songs_dict[num]\n",
        "num = str(input())\n",
        "time += my_favorite_songs_dict[num]\n",
        "num = str(input())\n",
        "time += my_favorite_songs_dict[num]\n",
        "print(\"Три песни звучат \", round(time, 2), \" минут\")"
      ]
    },
    {
      "cell_type": "code",
      "execution_count": 23,
      "metadata": {
        "colab": {
          "base_uri": "https://localhost:8080/"
        },
        "id": "OK7ImIDgRBIl",
        "outputId": "0532082e-410f-4036-f33b-351fb9a5d90c"
      },
      "outputs": [
        {
          "name": "stdout",
          "output_type": "stream",
          "text": [
            "[['Waste a Moment', 3.03], ['New Salvation', 4.02], [\"Staying' Alive\", 3.4], ['Out of Touch', 3.03], ['A Sorta Fairytale', 5.28], ['Easy', 4.15], ['Beautiful Day', 4.04], ['Nowhere to Run', 2.58], ['In This World', 4.02]]\n",
            "3\n",
            "6\n",
            "2\n",
            "Три песни звучат  10.47  минут\n"
          ]
        }
      ],
      "source": [
        "# Задача 1.2.\n",
        "# Пункт С (для пункта А).\n",
        "\n",
        "my_favorite_songs = [\n",
        "    ['Waste a Moment', 3.03],\n",
        "    ['New Salvation', 4.02],\n",
        "    ['Staying\\' Alive', 3.40],\n",
        "    ['Out of Touch', 3.03],\n",
        "    ['A Sorta Fairytale', 5.28],\n",
        "    ['Easy', 4.15],\n",
        "    ['Beautiful Day', 4.04],\n",
        "    ['Nowhere to Run', 2.58],\n",
        "    ['In This World', 4.02],\n",
        "]\n",
        "\n",
        "from random import randint\n",
        "time = 0\n",
        "print(my_favorite_songs)\n",
        "num = randint(0, 8)\n",
        "time += my_favorite_songs[num][1]\n",
        "print(num)\n",
        "num = randint(0, 8)\n",
        "time += my_favorite_songs[num][1]\n",
        "print(num)\n",
        "num = randint(0, 8)\n",
        "time += my_favorite_songs[num][1]\n",
        "print(num)\n",
        "print(\"Три случайные песни звучат \", round(time, 2), \" минут\")"
      ]
    },
    {
      "cell_type": "code",
      "execution_count": null,
      "metadata": {},
      "outputs": [
        {
          "ename": "",
          "evalue": "",
          "output_type": "error",
          "traceback": [
            "\u001b[1;31mRunning cells with 'project' requires the ipykernel package.\n",
            "\u001b[1;31mRun the following command to install 'ipykernel' into the Python environment. \n",
            "\u001b[1;31mCommand: 'c:/Users/admin/Envs/project/Scripts/python.exe -m pip install ipykernel -U --force-reinstall'"
          ]
        }
      ],
      "source": [
        "# Задача 1.2.\n",
        "# Пункт С (для пункта B).\n",
        "\n",
        "my_favorite_songs_dict = {\n",
        "    'Waste a Moment': 3.03,\n",
        "    'New Salvation': 4.02,\n",
        "    'Staying\\' Alive': 3.40,\n",
        "    'Out of Touch': 3.03,\n",
        "    'A Sorta Fairytale': 5.28,\n",
        "    'Easy': 4.15,\n",
        "    'Beautiful Day': 4.04,\n",
        "    'Nowhere to Run': 2.58,\n",
        "    'In This World': 4.02,\n",
        "}\n",
        "\n",
        "\n",
        "import random\n",
        "time = 0\n",
        "print(my_favorite_songs_dict)\n",
        "print(my_favorite_songs_dict.values('Beautiful Day'))\n"
      ]
    }
  ],
  "metadata": {
    "colab": {
      "provenance": []
    },
    "kernelspec": {
      "display_name": "Python 3",
      "name": "python3"
    },
    "language_info": {
      "name": "python",
      "version": "3.11.2"
    }
  },
  "nbformat": 4,
  "nbformat_minor": 0
}
